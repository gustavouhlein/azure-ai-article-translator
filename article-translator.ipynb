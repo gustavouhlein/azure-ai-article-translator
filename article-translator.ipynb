{
  "nbformat": 4,
  "nbformat_minor": 0,
  "metadata": {
    "colab": {
      "provenance": []
    },
    "kernelspec": {
      "name": "python3",
      "display_name": "Python 3"
    },
    "language_info": {
      "name": "python"
    }
  },
  "cells": [
    {
      "cell_type": "code",
      "execution_count": null,
      "metadata": {
        "id": "RsUNy1bG8ygN"
      },
      "outputs": [],
      "source": [
        "!pip install requests beautifulsoup4 openai langchain-openai"
      ]
    },
    {
      "cell_type": "code",
      "source": [
        "import os\n",
        "import requests\n",
        "import openai\n",
        "from bs4 import BeautifulSoup\n",
        "from langchain_openai.chat_models.azure import AzureChatOpenAI"
      ],
      "metadata": {
        "id": "RiIOcotT9Loy"
      },
      "execution_count": null,
      "outputs": []
    },
    {
      "cell_type": "code",
      "source": [
        "def extract_text_from_url(url):\n",
        "    response = requests.get(url)\n",
        "    if response.status_code == 200:\n",
        "        soup = BeautifulSoup(response.text, 'html.parser')\n",
        "        for script_or_style in soup(['script', 'style']):\n",
        "            script_or_style.decompose()\n",
        "        text = soup.get_text(separator=\" \")\n",
        "        lines = (line.strip() for line in text.splitlines())\n",
        "        chunks = (phrase.strip() for line in lines for phrase in line.split(\"  \"))\n",
        "        text = '\\n'.join(chunk for chunk in chunks if chunk)\n",
        "        return text\n",
        "    else:\n",
        "        print(f\"Failed to retrieve the webpage. Status code: {response.status_code}\")\n",
        "        return None"
      ],
      "metadata": {
        "id": "nJihKwrI9T9N"
      },
      "execution_count": null,
      "outputs": []
    },
    {
      "cell_type": "code",
      "source": [
        "client = AzureChatOpenAI(\n",
        "    azure_endpoint='',\n",
        "    api_key='',\n",
        "    api_version='',\n",
        "    deployment_name='',\n",
        "    max_retries=0\n",
        ")\n",
        "\n",
        "def translate_article(text, lang):\n",
        "    messages = [\n",
        "        ('system', 'Você é um tradutor de artigos.'),\n",
        "        ('user', f'traduza o {text} para o idiona {lang} e responda em markdown.')\n",
        "    ]\n",
        "    response = client.invoke(messages)\n",
        "    return response.content"
      ],
      "metadata": {
        "id": "q_B1Pwqd-shE"
      },
      "execution_count": null,
      "outputs": []
    },
    {
      "cell_type": "code",
      "source": [
        "text = extract_text_from_url('https://dev.to/couchbase/genai-a-new-tool-in-the-developer-toolbox-11j2')\n",
        "article = translate_article(text, 'pt-br')\n",
        "print(article)"
      ],
      "metadata": {
        "colab": {
          "base_uri": "https://localhost:8080/"
        },
        "id": "Z0n5Cp7dCMp4",
        "outputId": "18c3ae3b-3d48-4107-d440-7bca05051d1b"
      },
      "execution_count": null,
      "outputs": [
        {
          "output_type": "stream",
          "name": "stdout",
          "text": [
            "# GenAI: Uma Nova Ferramenta na Caixa de Ferramentas do Desenvolvedor\n",
            "\n",
            "Os desenvolvedores criam software que encanta os consumidores e oferece aplicações inovadoras para usuários empresariais. Esse ofício requer mais do que apenas produzir montanhas de código; ele incorpora um processo de observação, percepção, entrevistas, brainstorming, leitura, escrita e reescrita de especificações; design, prototipagem e codificação de acordo com as especificações; revisão, refatoração e verificação do software; e um ciclo virtuoso de implantação, depuração e melhoria. Em cada etapa desse ciclo, os desenvolvedores consomem e geram duas coisas: código e texto. Afinal, código é texto.\n",
            "\n",
            "A produtividade dos desenvolvedores é limitada por realidades do mundo real, desafios com prazos, requisitos pouco claros, código legado e mais. Para superar esses obstáculos e ainda cumprir os prazos, os desenvolvedores há muito tempo confiam na adição de novas ferramentas à sua caixa de ferramentas. Por exemplo, ferramentas de geração de código, como compiladores, geradores de UI, mapeadores ORM, geradores de API, etc. Os desenvolvedores abraçaram essas ferramentas sem reservas, evoluindo-as progressivamente para oferecer funcionalidades mais inteligentes. Compiladores modernos fazem mais do que apenas traduzir; eles reescrevem e otimizam o código automaticamente. SQL, desenvolvido há cinquenta anos como uma linguagem declarativa com um conjunto de modelos de inglês compostáveis, continua a evoluir e melhorar a experiência de acesso a dados e a produtividade dos desenvolvedores. Os desenvolvedores têm acesso a uma infinidade de ferramentas para expandir sua caixa de ferramentas.\n",
            "\n",
            "## A Emergência do GenAI\n",
            "\n",
            "GenAI é uma nova e poderosa ferramenta na caixa de ferramentas do desenvolvedor. GenAI, abreviação de Inteligência Artificial Generativa, é um subconjunto da IA capaz de pegar prompts e, então, criar autonomamente muitas formas de conteúdo—texto, código, imagens, vídeos, música e mais—que imitam e muitas vezes refletem a qualidade do trabalho humano. Prompts são instruções na forma de escrita expositiva. Melhores prompts produzem melhor texto e código. O aumento sísmico em torno do GenAI, apoiado por tecnologias como ChatGPT e copiloto, posiciona 2023 como o ‘Ano do GenAI’. A capacidade de geração de texto do GenAI promete revolucionar todos os aspectos da experiência e produtividade do desenvolvedor.\n",
            "\n",
            "## Impacto nos Desenvolvedores\n",
            "\n",
            "Recentemente, alguém comentou: \"Em 2023, a linguagem natural emergiu como a linguagem de programação mais rápida.\" Enquanto a geração anterior de ferramentas focava na melhoria incremental da produtividade para a escrita de código e aprimoramento da qualidade do código, as ferramentas de GenAI prometem revolucionar esses e todos os outros aspectos do trabalho do desenvolvedor. O ChatGPT pode resumir uma longa especificação de requisitos, fornecer a diferença do que mudou entre duas versões ou ajudar a elaborar uma lista de verificação de uma tarefa específica. Para codificação, o impacto é dramático. Como esses modelos foram treinados na totalidade da internet, bilhões de parâmetros, trilhões de tokens, eles já viram muito código. Ao escrever um bom prompt, você pode fazer com que ele escreva um grande pedaço de código, desenhe as APIs e refatore o código. E em apenas uma frase, você pode pedir ao ChatGPT para reescrever tudo em uma nova linguagem. Todas essas possibilidades eram simplesmente ficção científica há alguns anos. Isso faz com que as tarefas mundanas desapareçam, tarefas difíceis se tornem mais fáceis e tarefas complicadas se tornem possíveis. Os desenvolvedores estão confiando mais no ChatGPT para explicar novos conceitos e esclarecer ideias confusas. Aparentemente, essa tendência reduziu o tráfego no StackOverflow, um site popular de perguntas e respostas para desenvolvedores, entre 16% a 50%, em várias medidas! Os desenvolvedores escolhem a ferramenta vencedora.\n",
            "\n",
            "Mas há uma pegadinha. Mais de uma, na verdade. As ferramentas de GenAI da geração atual, embora promissoras, não estão cientes de seus objetivos e metas. Essas ferramentas, desenvolvidas por meio de treinamento em uma vasta gama de amostras, operam prevendo o próximo token, um de cada vez, firmemente enraizadas nos padrões que já encontraram anteriormente. Sua resposta é guiada e restrita pelo prompt. Para aproveitar seu potencial de forma eficaz, torna-se imperativo elaborar prompts detalhados e em estilo expositivo. Isso orienta a tecnologia a produzir saídas que estão mais próximas do objetivo pretendido, embora com um estilo e criatividade que estão limitados pelos dados de treinamento. Elas se destacam em replicar estilos aos quais foram expostas, mas falham em inventar estilos sem precedentes. Várias empresas e grupos estão ocupados treinando LLMs para tarefas específicas para melhorar sua geração de conteúdo. Recomendo seguir o conselho de Sathya Nadella, CEO da Microsoft, que sugere que é prudente tratar o conteúdo gerado pelo GenAI como um rascunho, exigindo uma revisão minuciosa para garantir sua clareza e precisão. A responsabilidade recai sobre o desenvolvedor para delinear entre tarefas rotineiras e aquelas que exigem criatividade—um discernimento que permanece além do alcance do GenAI. Pelo menos, por enquanto.\n",
            "\n",
            "Apesar disso, com evidência justificável, o GenAI promete melhorar a experiência e a produtividade dos desenvolvedores. O ChatGPT da OpenAI alcançou 100 milhões de usuários em um tempo recorde. Seus IDEs favoritos têm plugins para explorá-lo. A Microsoft prometeu usar GenAI em todos os seus produtos, incluindo sua oferta de busca revitalizada, bing.com. O Google respondeu com seu próprio conjunto de serviços e produtos; o Facebook e outros lançaram múltiplos modelos para ajudar os desenvolvedores a progredir.\n",
            "\n",
            "É um ótimo momento para ser um desenvolvedor. A revolução começou rapidamente. Na Couchbase, introduzimos capacidades de inteligência artificial generativa em nosso Database-as-a-Service Couchbase Capella para aumentar significativamente a produtividade dos desenvolvedores e acelerar o tempo de lançamento no mercado para aplicações modernas. A nova capacidade chamada Capella iQ permite que os desenvolvedores escrevam SQL++ e código em nível de aplicação mais rapidamente, oferecendo código de exemplo recomendado.\n",
            "\n",
            "Para mais informações sobre o Capella iQ e para se inscrever em uma prévia privada, visite [aqui](https://www.couchbase.com/capella-iq) ou experimente o Couchbase por conta própria hoje mesmo com nosso teste gratuito [aqui](https://www.couchbase.com/trial).\n",
            "\n",
            "Autor: Keshav Murthy\n",
            "\n",
            "O post **GenAI: Uma Nova Ferramenta na Caixa de Ferramentas do Desenvolvedor** apareceu primeiro no [Blog da Couchbase](https://www.couchbase.com/blog).\n"
          ]
        }
      ]
    }
  ]
}